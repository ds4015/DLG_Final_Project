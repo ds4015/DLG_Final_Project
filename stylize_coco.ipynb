{
 "cells": [
  {
   "cell_type": "code",
   "execution_count": null,
   "metadata": {
    "colab": {
     "base_uri": "https://localhost:8080/"
    },
    "id": "J1dk5VxrpN9o",
    "outputId": "26560341-ec05-44b9-8658-aaaf5cf07d12"
   },
   "outputs": [],
   "source": [
    "# STYLIZE COCO DATASET\n",
    "# Use fast_neural_style to generate stylized versions of COCO real-world images\n",
    "\n",
    "# run on google drive for use of cuda\n",
    "from google.colab import drive\n",
    "drive.mount('/content/drive')\n",
    "\n",
    "import os\n",
    "os.makedirs(\"/content/drive/MyDrive/coco/images/val2017\", exist_ok=True)\n",
    "os.makedirs(\"/content/drive/MyDrive/stylized_coco\", exist_ok=True)\n",
    "\n",
    "# get copy of pytorch examples and store in local session\n",
    "!git clone https://github.com/pytorch/examples.git\n",
    "\n",
    "# switch to the fast_neural_style ex dir\n",
    "%cd examples/fast_neural_style\n",
    "\n",
    "# run the model on 1 test image (zebra) to see results\n",
    "!python neural_style/neural_style.py eval \\\n",
    "  --content-image \"/content/drive/MyDrive/coco/images/val2017/000000001818.jpg\" \\\n",
    "  --output-image \"/content/drive/MyDrive/stylized_coco/000000001818.jpg\" \\\n",
    "  --model \"/content/drive/MyDrive/mosaic.pth\" \\\n",
    "  --cuda 1\n",
    "\n",
    "\n",
    "# define COCO input images path, output dir, and particular art style\n",
    "# (mosaic) to use existing trained model\n",
    "nput_dir = \"/content/drive/MyDrive/coco/images/val2017\"\n",
    "output_dir = \"/content/drive/MyDrive/stylized_coco\"\n",
    "model_path = \"/content/drive/MyDrive/mosaic.pth\"\n",
    "\n",
    "# loop through the COCO images and stylize, saving output to output dir\n",
    "for file in os.listdir(input_dir):\n",
    "    if file.lower().endswith(('.jpg', '.png', '.jpeg')):\n",
    "        input_path = os.path.join(input_dir, file)\n",
    "        output_path = os.path.join(output_dir, file)\n",
    "\n",
    "        !python neural_style/neural_style.py eval \\\n",
    "            --content-image \"{input_path}\" \\\n",
    "            --output-image \"{output_path}\" \\\n",
    "            --model \"{model_path}\" \\\n",
    "            --cuda 1\n"
   ]
  }
 ],
 "metadata": {
  "accelerator": "GPU",
  "colab": {
   "authorship_tag": "ABX9TyOkNv9WkvCnRiBRD6B5XMev",
   "gpuType": "T4",
   "mount_file_id": "1K5i3ykDeMBoOpSJ8ci4Q_kKdavpfChSe",
   "provenance": []
  },
  "kernelspec": {
   "display_name": "Python 3",
   "name": "python3"
  },
  "language_info": {
   "name": "python"
  }
 },
 "nbformat": 4,
 "nbformat_minor": 0
}
